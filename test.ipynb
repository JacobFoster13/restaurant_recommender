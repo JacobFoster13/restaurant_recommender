{
 "cells": [
  {
   "cell_type": "code",
   "execution_count": 100,
   "metadata": {},
   "outputs": [],
   "source": [
    "import re\n",
    "import json\n",
    "import requests\n",
    "import numpy as np\n",
    "import pandas as pd\n",
    "from openai import OpenAI\n",
    "from pinecone import Pinecone\n",
    "from langchain_openai import OpenAIEmbeddings\n",
    "from langchain_core.documents import Document\n",
    "from langchain_pinecone import PineconeVectorStore\n"
   ]
  },
  {
   "cell_type": "code",
   "execution_count": 4,
   "metadata": {},
   "outputs": [],
   "source": [
    "types = '''acai_shop *\n",
    "afghani_restaurant *\n",
    "african_restaurant *\n",
    "american_restaurant\n",
    "asian_restaurant *\n",
    "bagel_shop *\n",
    "bakery\n",
    "bar\n",
    "bar_and_grill *\n",
    "barbecue_restaurant\n",
    "brazilian_restaurant\n",
    "breakfast_restaurant\n",
    "brunch_restaurant\n",
    "buffet_restaurant *\n",
    "cafe\n",
    "cafeteria *\n",
    "candy_store *\n",
    "cat_cafe *\n",
    "chinese_restaurant\n",
    "chocolate_factory *\n",
    "chocolate_shop *\n",
    "coffee_shop\n",
    "confectionery *\n",
    "deli *\n",
    "dessert_restaurant *\n",
    "dessert_shop *\n",
    "diner *\n",
    "dog_cafe *\n",
    "donut_shop *\n",
    "fast_food_restaurant\n",
    "fine_dining_restaurant *\n",
    "food_court *\n",
    "french_restaurant\n",
    "greek_restaurant\n",
    "hamburger_restaurant\n",
    "ice_cream_shop\n",
    "indian_restaurant\n",
    "indonesian_restaurant\n",
    "italian_restaurant\n",
    "japanese_restaurant\n",
    "juice_shop *\n",
    "korean_restaurant *\n",
    "lebanese_restaurant\n",
    "meal_delivery\n",
    "meal_takeaway\n",
    "mediterranean_restaurant\n",
    "mexican_restaurant\n",
    "middle_eastern_restaurant\n",
    "pizza_restaurant\n",
    "pub *\n",
    "ramen_restaurant\n",
    "restaurant\n",
    "sandwich_shop\n",
    "seafood_restaurant\n",
    "spanish_restaurant\n",
    "steak_house\n",
    "sushi_restaurant\n",
    "tea_house *\n",
    "thai_restaurant\n",
    "turkish_restaurant\n",
    "vegan_restaurant\n",
    "vegetarian_restaurant\n",
    "vietnamese_restaurant\n",
    "wine_bar *'''\n",
    "\n",
    "# construct list from provided Google Restaurant location subtypes\n",
    "primary_types = []\n",
    "types = types.replace(' *', '')\n",
    "primary_types = types.split()"
   ]
  },
  {
   "cell_type": "code",
   "execution_count": null,
   "metadata": {},
   "outputs": [],
   "source": [
    "# set variables for storage and error flagging\n",
    "master_data = {}\n",
    "error = False\n",
    "\n",
    "# location coordinates // current Dallas, TX\n",
    "lat = 32.7949\n",
    "long = -96.79929\n",
    "\n",
    "# customizable Google Field Mask list\n",
    "field_masks = ['displayName', 'formattedAddress', 'id', 'regularOpeningHours', 'priceLevel', 'websiteUri']\n",
    "master_field_mask = ','.join(f'places.{i}' for i in field_masks)\n",
    "\n",
    "# Google Places Nearby Search (NEW) API URL\n",
    "post_test_url = 'https://places.googleapis.com/v1/places:searchNearby'\n",
    "\n",
    "# Google Places Nearby Search (NEW) API Headers\n",
    "post_headers = {\n",
    "    'Content-Type': 'application/json',\n",
    "    'X-Goog-Api-Key': API_KEY,\n",
    "    'X-Goog-FieldMask': master_field_mask,\n",
    "\n",
    "}\n",
    "i = 0\n",
    "for primary_type in primary_types:\n",
    "    # fill in primary type with new type from master list\n",
    "\n",
    "    # Google Places Nearby Search (NEW) API Body\n",
    "    post_body = {\n",
    "        \"includedPrimaryTypes\": [primary_type],\n",
    "        'maxResultCount': 20,\n",
    "        \"rankPreference\": \"POPULARITY\",\n",
    "        \"locationRestriction\": {\n",
    "            \"circle\": {\n",
    "                \"center\": {\n",
    "                    \"latitude\": lat,\n",
    "                    \"longitude\": long\n",
    "                    },\n",
    "                \"radius\": 16903.0 # about 10 miles\n",
    "            }\n",
    "        }\n",
    "    }\n",
    "\n",
    "    # insert the new data to the master data dictionary\n",
    "    post_response = requests.post(post_test_url, headers=post_headers, json=post_body)\n",
    "    print(f'{i}:', post_response)\n",
    "    # break from loop if unsuccessful API call\n",
    "    if post_response.status_code != 200:\n",
    "        error = True\n",
    "        break\n",
    "    try:\n",
    "        # set data into master data dictionary\n",
    "        new_data = post_response.json()['places']\n",
    "        master_data[primary_type] = new_data\n",
    "    # exception for empty API return for primaryPlaceType\n",
    "    except KeyError:\n",
    "        master_data[primary_type] = 'N/A'\n",
    "    i += 1\n",
    "\n",
    "# if all data has been successfully received then output the data to a JSON for storage\n",
    "if not error:\n",
    "    with open('data.json', 'w') as output:\n",
    "        json.dump(master_data, output, indent=4)"
   ]
  },
  {
   "cell_type": "code",
   "execution_count": 5,
   "metadata": {},
   "outputs": [],
   "source": [
    "# read in data from storage JSON file\n",
    "with open('data.json', 'r') as fp:\n",
    "    data = json.load(fp)\n"
   ]
  },
  {
   "cell_type": "code",
   "execution_count": 97,
   "metadata": {},
   "outputs": [
    {
     "name": "stdout",
     "output_type": "stream",
     "text": [
      "{'PRICE_LEVEL_VERY_EXPENSIVE', 'PRICE_LEVEL_INEXPENSIVE', 'PRICE_LEVEL_EXPENSIVE', 'PRICE_LEVEL_MODERATE'}\n"
     ]
    }
   ],
   "source": [
    "# determine different levels of pricing set by Google\n",
    "plevels = set()\n",
    "for ptype in data:\n",
    "    for place in data[ptype]:\n",
    "        if 'priceLevel' in place:\n",
    "            plevels.add(place['priceLevel'])\n",
    "\n",
    "\n",
    "print(plevels)"
   ]
  },
  {
   "cell_type": "code",
   "execution_count": 6,
   "metadata": {},
   "outputs": [],
   "source": [
    "# create empty dataframe for storage\n",
    "df = pd.DataFrame(columns=['id', 'displayName', 'primaryType', 'websiteUri', 'formattedAddress', 'priceLevel', 'reviews', 'editorialSummary', 'rating'])\n",
    "\n",
    "for prim_type in data:\n",
    "    if type(data[prim_type]) == list:\n",
    "        # set default value for optional returned parameters\n",
    "        websiteUri, formattedAddress, priceLevel = np.nan, np.nan, np.nan\n",
    "        # extract data with some formatting\n",
    "        for place in data[prim_type]:\n",
    "            if 'websiteUri' in place:\n",
    "                websiteUri = place['websiteUri']\n",
    "            if 'formattedAddress'  in place:\n",
    "                formattedAddress = place['formattedAddress']\n",
    "            if 'priceLevel' in place:\n",
    "                priceLevel = ' '.join(place['priceLevel'][12:].split('_')).lower()\n",
    "            # add new row to end of dataframe\n",
    "            df.loc[len(df)] = [place['id'], place['displayName']['text'].title(), ' '.join(prim_type.split('_')), websiteUri, formattedAddress, priceLevel, np.nan, np.nan, np.nan]\n",
    "            "
   ]
  },
  {
   "cell_type": "code",
   "execution_count": 24,
   "metadata": {},
   "outputs": [],
   "source": [
    "# Google Places Details (new) API URI\n",
    "details_url = 'https://places.googleapis.com/v1/places/'\n",
    "\n",
    "# Google Places Details (new) API headers\n",
    "details_headers = {\n",
    "    'Content-Type': 'application/json',\n",
    "    'X-Goog-Api-Key': API_KEY,\n",
    "    'X-Goog-FieldMask': 'rating,reviews,editorialSummary'\n",
    "}\n",
    "\n",
    "# use Google Places  Details (NEW) API to get customer reviews, ratings, and the editorial summary for each location\n",
    "def get_details(row):\n",
    "    res = requests.get(details_url+row['id'], headers=details_headers)\n",
    "    temp = res.json()\n",
    "    if temp:\n",
    "        if 'reviews' in temp:\n",
    "            row['reviews'] = temp['reviews']\n",
    "        if 'rating' in temp:\n",
    "            row['rating'] = temp['rating']\n",
    "        if 'editorialSummary' in temp:\n",
    "            row['editorialSummary'] = temp['editorialSummary']['text']\n",
    "    return row"
   ]
  },
  {
   "cell_type": "code",
   "execution_count": null,
   "metadata": {},
   "outputs": [],
   "source": [
    "# retrieve and add data from Google Places Details API\n",
    "df = df.apply(get_details, axis=1)"
   ]
  },
  {
   "cell_type": "code",
   "execution_count": 72,
   "metadata": {},
   "outputs": [],
   "source": [
    "# parse the reviews from dictionary to string\n",
    "def format_reviews(row):\n",
    "    if type(row['reviews']) == list:\n",
    "        hold = []\n",
    "        for rev in row['reviews']:\n",
    "            if 'text' in rev:\n",
    "                if 'text' in rev['text']:\n",
    "                    review = rev['text']['text']\n",
    "                    review = review.replace('\\n', ' ')\n",
    "                    review = review.replace('\\t', ' ')\n",
    "                    hold.append(review)\n",
    "        row['reviews'] = '; '.join(hold)\n",
    "\n",
    "    return row\n",
    "\n",
    "\n",
    "# format the reviews from list/dictionary to contiguous string\n",
    "df = df.apply(format_reviews, axis=1)\n",
    "# remove newline and tab characters from reviews to place them all on one row\n",
    "df['reviews'] = df['reviews'].map(lambda r: r.replace('\\n', ' ').replace('\\t', ' ') if type(r) == str else r)\n",
    "\n"
   ]
  },
  {
   "cell_type": "code",
   "execution_count": 75,
   "metadata": {},
   "outputs": [],
   "source": [
    "# write dataframe to csv file for storage\n",
    "df.to_csv('data.csv', index=False, sep='|')"
   ]
  },
  {
   "cell_type": "code",
   "execution_count": 78,
   "metadata": {},
   "outputs": [],
   "source": [
    "# prompts for easier refernce\n",
    "prompts = [' is a ', ' It is located at ', ' Prices are typically ', ' Here are what people have to say about ', 'It is rated ', ' out of 5 stars overall.']\n",
    "\n",
    "with open('data.csv', 'r', encoding='UTF-8') as infile, open('data.txt', 'w', encoding='UTF-8') as outfile:\n",
    "    for place in infile:\n",
    "        # begin new string and parse incoming string\n",
    "        place_details = ''\n",
    "        place = place.strip()\n",
    "        place = place.split('|')\n",
    "\n",
    "        # construct string\n",
    "        # name and type\n",
    "        place_details += place[1] + prompts[0] + place[2] + '.'\n",
    "        # optional editorial summary\n",
    "        if place[7]:\n",
    "            place_details += ' Described as ' + place[7]\n",
    "        # address\n",
    "        place_details += prompts[1] + place[4] + '.'\n",
    "        # optional price level\n",
    "        if place[5]:\n",
    "            place_details += prompts[2] + place[5] + '.'\n",
    "        # optional reviews\n",
    "        if place[6]:\n",
    "            place_details += prompts[3] + place[1] + ': ' + place[6]\n",
    "        # optional rating from Google\n",
    "        if place[8]:\n",
    "            place_details += prompts[4] + place[8] + prompts[5]\n",
    "\n",
    "        # write the line the data file\n",
    "        outfile.write(place_details + '\\n')\n"
   ]
  },
  {
   "cell_type": "code",
   "execution_count": 81,
   "metadata": {},
   "outputs": [],
   "source": [
    "pc = Pinecone(api_key=PINECONE_API_KEY)\n",
    "index = pc.Index(PINECONE_INDEX)\n",
    "\n",
    "embeddings = OpenAIEmbeddings(model=\"text-embedding-3-large\", api_key=OPENAI_API_KEY)\n",
    "\n",
    "vector_store = PineconeVectorStore(index=index, embedding=embeddings)"
   ]
  },
  {
   "cell_type": "code",
   "execution_count": 86,
   "metadata": {},
   "outputs": [],
   "source": [
    "docs = []\n",
    "with open('data.txt', 'r', encoding='UTF-8') as fp:\n",
    "    for line in fp:\n",
    "        line = line.strip()\n",
    "        doc = Document(\n",
    "            page_content=line,\n",
    "            metadata={\"source\": \"Google Maps Places and Reviews\"}\n",
    "        )\n",
    "        docs.append(doc)\n",
    "\n"
   ]
  },
  {
   "cell_type": "code",
   "execution_count": null,
   "metadata": {},
   "outputs": [],
   "source": [
    "vector_store.add_documents(documents=docs)"
   ]
  },
  {
   "cell_type": "code",
   "execution_count": 94,
   "metadata": {},
   "outputs": [],
   "source": [
    "# res = vector_store.similarity_search_by_vector_with_score(\n",
    "#     \"I want to eat at the best wine bar in Dallas. I particularly love red wine.\",\n",
    "#     k=3\n",
    "# )\n",
    "\n",
    "retriever = vector_store.as_retriever(\n",
    "        search_type='similarity',\n",
    "        search_kwargs={'k': 3}\n",
    "    )\n"
   ]
  },
  {
   "cell_type": "code",
   "execution_count": 101,
   "metadata": {},
   "outputs": [],
   "source": [
    "user_input = \"What is the best wine bar in Dallas? In particular, I want a wine bar known for its red wine\"\n",
    "res = retriever.invoke(user_input)"
   ]
  },
  {
   "cell_type": "code",
   "execution_count": 102,
   "metadata": {},
   "outputs": [
    {
     "data": {
      "text/plain": [
       "\"PLACE 1: Bodega Wine Bar is a wine bar. Described as Cozy hangout with a fireplace serving wine by the glass, bottle & flight, plus cheese & charcuterie. It is located at 6434 E Mockingbird Ln # 109, Dallas, TX 75214, USA. Prices are typically moderate. Here are what people have to say about Bodega Wine Bar: Best Wine bar in Dallas! The wine selection is amazing, everyone is very educated and friendly!; If DDD were looking for wine bars this would be the winner. This place is all about the glass. The staff will help with a selection from their extensive inventory if you need it. Don't forget to find a few bottles for the house.; Very friendly, helpful, and knowledgeable staff. Great selection of wine from all over the world. Relaxing atmosphere. They have your typical snacks that pair with wine but allow outside food.; Favorite wine bar in DFW! Amier (owner) is insanely knowledgeable and is always willing to share that knowledge with his patrons. Whether you're buying a bottle to go or want to explore a flight of pinot to understand how different they can be from all over the world, stop in! Pro tip - you won't regret having the brie for a snack either.; Bodega Wine Bar was fantastic. I'm so sad it took us this long to come visit. The options are endless! There is something for everyone and the atmosphere is incredibly inviting. This will be our first of many visits.It is rated 4.8 out of 5 stars overall., PLACE 2: Barons Creek Vineyards Tasting Room Dallas is a wine bar. It is located at 418 N Bishop Ave, Dallas, TX 75208, USA. Prices are typically moderate. Here are what people have to say about Barons Creek Vineyards Tasting Room Dallas: Had a wonderful experience at Barons Creek. Wines were amazing! Crazy Train Cab was a favorite. The best part was the service! Mike, Nick and James were so helpful and friendly! Enjoyed it so much went 3 times during my vacation!!; We had the best time being hosted by James for my nieces birthday. The wines were great.  We did the tasting no the the red and mix list.; My wife and I visited on a Monday and loved it. The gentleman that runs the place is amazing. He quickly picked up on our tastes and made good recommendations all evening. We got the charcuterie board and it may be the best I’ve ever had.; Barons Creek has quickly become a go-to spot for me in Bishop Arts. They have a perfect location with plenty of space to include bar, high tops and lounge. If their delicious wine assortments and sweet staff aren't enough, their food is also delicious! Seth the manager and Ernesto the chef make an unstoppable pair, dishing out fantastic service and an overall wonderful experience. If you're a local I also highly recommend looking into their membership program- on top of great deals on quarterly wine purchases you get access to exclusive events, discounts on your visits and of course free daily tastings! If you haven't had a chance to stop by I highly encourage you!; This is a brand new location for this franchise, but it is already a must visit destination for all wine lovers if you're in Dallas. All wines we tried were good, and the service was amazing. We didn't have the chance to eat, but we're definitely coming back for the full experience. The decoration was neat, and everything was brand new. The location is perfect, right in the middle of the Art District at Bishop Ave.  Highly recommended by @aventwine @Aventure.dos @soIsayIcancookIt is rated 4.6 out of 5 stars overall., PLACE 3: Winetastic Wine Bar And Retail Store is a wine bar. Described as Trendy yet casual wine bar & shop that sells global wines by the glass, the bottle & the case. It is located at 4140 Lemmon Ave #130, Dallas, TX 75219, USA. Prices are typically moderate. Here are what people have to say about Winetastic Wine Bar And Retail Store: Staff was rude and seemed put out by having to do a tasting experience. We had high hopes for this place as my friends and I are often rotating our favorite wine spots to hang out, but the experience left us disappointed. It also would have been nice if they’d had even light appetizers to choose from, but there’s no food to pair with the wines. Definitely better service and ambiance at other places throughout DFW.; It was a great experience. The wines are fantastic and the people there are knowledgeable and friendly. I keep coming back.; The owner, Terri Burney was extremely rude!  I didn’t know she was the owner at the time nor did I know she was a sommelier.  I walked in and she asked was I going to have a glass of wine. No hello, or welcome. I was waiting on 2 friends to come which I told her. She seemed irritated they weren’t there yet and kept asking were they coming.  The place was literally empty so I didn’t understand the rush.  My one friend came and she asked again about the other.  We stated the other was in traffic. By now she was talking to another customer who stated there shouldnt be much traffic because it’s a holiday.  ( it was Juneteenth).  Terri said it’s not a holiday! …. Well I guess it is.  I’m black and both my friends are white. We said it is absolutely a holiday.  I should have left then but we stayed. I ordered a flight. She seemed bothered that she had to keep pouring it. I asked about the taste of a few wines and she gave no explanation just pointed to the menu and said it’s that one.  NEVER will we ever come back to this place. And she would not be in business.  Do not go here.; Not bad, but was let down by the appetizer that appeared and tasted as though it was just pulled from a lunchables package; Winetastic is great. They have a nice selection of wines and a very knowledgeable staff. A great place to pick up a bottle of wine or try a glass of something new. My favorite place to have a drink and meet with friends.It is rated 4.1 out of 5 stars overall.\""
      ]
     },
     "execution_count": 102,
     "metadata": {},
     "output_type": "execute_result"
    }
   ],
   "source": [
    "rag_context = ', '.join([f\"PLACE {i+1}: {place.page_content}\" for i, place in enumerate(res)])\n",
    "rag_context"
   ]
  },
  {
   "cell_type": "code",
   "execution_count": 103,
   "metadata": {},
   "outputs": [
    {
     "name": "stdout",
     "output_type": "stream",
     "text": [
      "ChatCompletionMessage(content=\"For a top-notch wine bar in Dallas, I recommend **Bodega Wine Bar**. It's often hailed as the best wine bar in the area, with an amazing selection of wines, including reds from all over the world. The staff is praised for their knowledge and friendliness, making it a great place to explore different varietals. Plus, the cozy atmosphere adds to the overall experience.\\n\\nAnother excellent option is **Barons Creek Vineyards Tasting Room Dallas**, known for its fantastic wines and a welcoming atmosphere. They offer a variety of reds and have received high praise for both the wine and the service.\\n\\nBoth places would be a great choice for red wine enthusiasts!\", refusal=None, role='assistant', audio=None, function_call=None, tool_calls=None)\n"
     ]
    }
   ],
   "source": [
    "llm = OpenAI(api_key=OPENAI_API_KEY)\n",
    "\n",
    "dev_prompt = '''\n",
    "    You are a helpful restaurant recommender. You use the data provided in this query to provide recommendations for the user. If the user does not specify how many recommendations they want: provide one or two recommendations.\n",
    "    Keep the recommendations friendly but concise. Use the data to address the parts of the users' questions. Use the following data to generate a concise and accurate repsonse to the users questions or comments: \n",
    "'''\n",
    "\n",
    "completion = llm.chat.completions.create(\n",
    "    model='gpt-4o-mini',\n",
    "    messages=[\n",
    "        {'role': 'developer', 'content': dev_prompt + rag_context},\n",
    "        {'role': 'user', 'content': user_input}\n",
    "    ]\n",
    ")\n",
    "\n",
    "print(completion.choices[0].message)"
   ]
  }
 ],
 "metadata": {
  "kernelspec": {
   "display_name": "venv",
   "language": "python",
   "name": "python3"
  },
  "language_info": {
   "codemirror_mode": {
    "name": "ipython",
    "version": 3
   },
   "file_extension": ".py",
   "mimetype": "text/x-python",
   "name": "python",
   "nbconvert_exporter": "python",
   "pygments_lexer": "ipython3",
   "version": "3.10.4"
  }
 },
 "nbformat": 4,
 "nbformat_minor": 2
}
